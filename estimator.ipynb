{
 "cells": [
  {
   "cell_type": "code",
   "execution_count": 12,
   "metadata": {},
   "outputs": [],
   "source": [
    "import pandas as pd\n",
    "import numpy as np\n",
    "import os\n",
    "from gtda.time_series import TakensEmbedding, SingleTakensEmbedding, SlidingWindow, PearsonDissimilarity\n",
    "from sklearn.preprocessing import StandardScaler\n",
    "from gtda.homology import VietorisRipsPersistence\n",
    "from gtda.plotting import plot_point_cloud\n",
    "from gtda.diagrams import PersistenceLandscape, BettiCurve, HeatKernel, PersistenceImage, Silhouette, Amplitude, PersistenceEntropy\n",
    "import matplotlib.pyplot as plt\n",
    "from gtda.pipeline import make_pipeline\n",
    "from sklearn.ensemble import RandomForestRegressor\n",
    "from sklearn.metrics import mean_squared_error"
   ]
  },
  {
   "cell_type": "code",
   "execution_count": 7,
   "metadata": {},
   "outputs": [],
   "source": [
    "DATA_DIR = 'Financial Data'\n",
    "scaler = StandardScaler()\n",
    "\n",
    "crypto = {}\n",
    "for fn in os.listdir(os.path.join(DATA_DIR, 'cryptocurrencies')):\n",
    "    crypto[fn] = pd.read_csv(os.path.join(DATA_DIR, 'cryptocurrencies', fn))\n",
    "    crypto[fn]['Volume'] = crypto[fn]['Volume'].astype(float)\n",
    "    crypto[fn].drop(columns=['Year'], inplace=True)\n",
    "    crypto[fn].iloc[:, 1:] = scaler.fit_transform(crypto[fn].iloc[:, 1:])\n",
    "\n",
    "currency = {}\n",
    "for fn in os.listdir(os.path.join(DATA_DIR, 'currencies')):\n",
    "    currency[fn] = pd.read_csv(os.path.join(DATA_DIR, 'currencies', fn))\n",
    "    currency[fn].drop(columns=['Year', 'Volume'], inplace=True)\n",
    "    currency[fn].iloc[:, 1:] = scaler.fit_transform(currency[fn].iloc[:, 1:])\n",
    "\n",
    "stock = {}\n",
    "for fn in os.listdir(os.path.join(DATA_DIR, 'stocks')):\n",
    "    stock[fn] = pd.read_csv(os.path.join(DATA_DIR, 'stocks', fn))\n",
    "    stock[fn]['Volume'] = stock[fn]['Volume'].astype(float)\n",
    "    stock[fn].drop(columns=['Symbol', 'Date'], inplace=True)\n",
    "    stock[fn].iloc[:, 1:] = scaler.fit_transform(stock[fn].iloc[:, 1:])"
   ]
  },
  {
   "cell_type": "code",
   "execution_count": 8,
   "metadata": {},
   "outputs": [],
   "source": [
    "X = stock['AAPL.csv'].drop(columns=['Close']).values\n",
    "y = stock['AAPL.csv']['Close'].values"
   ]
  },
  {
   "cell_type": "code",
   "execution_count": 9,
   "metadata": {},
   "outputs": [],
   "source": [
    "SW = SlidingWindow()\n",
    "# X_sw, yr = SW.fit_transform_resample(X, y)\n",
    "PD = PearsonDissimilarity()\n",
    "# X_pd = PD.fit_transform(X_sw)\n",
    "VR = VietorisRipsPersistence(metric=\"precomputed\")\n",
    "# X_vr = VR.fit_transform(X_pd)  # \"precomputed\" required on dissimilarity data\n",
    "Ampl = Amplitude()\n",
    "# X_a = Ampl.fit_transform(X_vr)\n",
    "RFR = RandomForestRegressor()\n",
    "\n",
    "pipe = make_pipeline(SW, PD, VR, Ampl, RFR)\n",
    "\n",
    "pipe.fit(X, y)\n",
    "y_pred = pipe.predict(X)\n",
    "score = pipe.score(X, y)\n",
    "y_pred, score"
   ]
  },
  {
   "cell_type": "code",
   "execution_count": 18,
   "metadata": {},
   "outputs": [
    {
     "data": {
      "text/plain": [
       "(array([-0.63561667, -0.34888702, -0.74471036, ...,  1.82478223,\n",
       "         1.51643905,  1.64774899]),\n",
       " 0.797337281646092)"
      ]
     },
     "execution_count": 18,
     "metadata": {},
     "output_type": "execute_result"
    }
   ],
   "source": [
    "pipe.fit(X, y)\n",
    "y_pred = pipe.predict(X)\n",
    "score = pipe.score(X, y)\n",
    "y_pred, score\n",
    "\n",
    "# print(mean_squared_error(y, y_pred))"
   ]
  },
  {
   "cell_type": "code",
   "execution_count": 16,
   "metadata": {},
   "outputs": [
    {
     "data": {
      "text/plain": [
       "((5137,), (5146,))"
      ]
     },
     "execution_count": 16,
     "metadata": {},
     "output_type": "execute_result"
    }
   ],
   "source": [
    "y_pred.shape, y.shape"
   ]
  }
 ],
 "metadata": {
  "kernelspec": {
   "display_name": "base",
   "language": "python",
   "name": "python3"
  },
  "language_info": {
   "codemirror_mode": {
    "name": "ipython",
    "version": 3
   },
   "file_extension": ".py",
   "mimetype": "text/x-python",
   "name": "python",
   "nbconvert_exporter": "python",
   "pygments_lexer": "ipython3",
   "version": "3.11.5"
  }
 },
 "nbformat": 4,
 "nbformat_minor": 2
}
